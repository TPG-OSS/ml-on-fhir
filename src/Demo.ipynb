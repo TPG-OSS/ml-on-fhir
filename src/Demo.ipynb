{
 "cells": [
  {
   "cell_type": "code",
   "execution_count": 1,
   "metadata": {},
   "outputs": [],
   "source": [
    "%load_ext autoreload\n",
    "%autoreload 2"
   ]
  },
  {
   "cell_type": "code",
   "execution_count": 2,
   "metadata": {},
   "outputs": [],
   "source": [
    "from fhir_client import FHIRClient\n",
    "import logging\n",
    "logging.basicConfig(level=logging.INFO)"
   ]
  },
  {
   "cell_type": "code",
   "execution_count": 3,
   "metadata": {},
   "outputs": [],
   "source": [
    "client = FHIRClient(service_base_url='http://localhost:8080/baseDstu3')\n",
    "pats = client.get_all_patients()"
   ]
  },
  {
   "cell_type": "code",
   "execution_count": 4,
   "metadata": {},
   "outputs": [
    {
     "name": "stderr",
     "output_type": "stream",
     "text": [
      "INFO:root:Extracting attributes from data set\n",
      "INFO:root:Preprocessing data\n",
      "INFO:root:Started training of clf\n",
      "INFO:root:Training completed\n"
     ]
    },
    {
     "name": "stdout",
     "output_type": "stream",
     "text": [
      "Prediction accuracy 0.8989813242784381\n"
     ]
    }
   ],
   "source": [
    "from ml_on_fhir import MLOnFHIR\n",
    "from fhir_objects.Patient import Patient\n",
    "from sklearn.tree import DecisionTreeClassifier\n",
    "\n",
    "ml_fhir = MLOnFHIR(Patient, feature_attrs=['birthDate'], label_attrs=['gender'])\n",
    "X, y, trained_clf = ml_fhir.fit(pats, DecisionTreeClassifier())\n",
    "\n",
    "from sklearn.metrics import accuracy_score, roc_curve, auc\n",
    "fpr, tpr, _ = roc_curve(y, trained_clf.predict(X))\n",
    "print(\"Prediction accuracy {}\".format( auc(fpr, tpr) ) )"
   ]
  },
  {
   "cell_type": "markdown",
   "metadata": {},
   "source": [
    "#### The first five values of the ` birthDate` feature that has been preprocessed into an age in years:"
   ]
  },
  {
   "cell_type": "code",
   "execution_count": 8,
   "metadata": {},
   "outputs": [
    {
     "data": {
      "text/plain": [
       "array([[67],\n",
       "       [15],\n",
       "       [84],\n",
       "       [85],\n",
       "       [84]])"
      ]
     },
     "execution_count": 8,
     "metadata": {},
     "output_type": "execute_result"
    }
   ],
   "source": [
    "X[:5]"
   ]
  },
  {
   "cell_type": "markdown",
   "metadata": {},
   "source": [
    "### Custom Preprocessing Classes\n",
    "If you want to preprocess fhir resources differently, feel free to implement your own preprocessing class. \n",
    "We can use the `register_preprocessor` function to do so. It is crucial to stick to the following naming scheme: \n",
    "    \n",
    "    \"<FHIR_Object_Name><FHIR_Resource_Name>Processor\"\n",
    "    \n",
    "Furthemore, at least the methods `fit` and `transform` have to be implemented."
   ]
  },
  {
   "cell_type": "code",
   "execution_count": 5,
   "metadata": {},
   "outputs": [
    {
     "name": "stderr",
     "output_type": "stream",
     "text": [
      "WARNING:root:Preprocessor PatientBirthdateProcessor already exists. Will be overridden.\n"
     ]
    }
   ],
   "source": [
    "from preprocessing import register_preprocessor\n",
    "\n",
    "from sklearn.base import BaseEstimator\n",
    "import datetime as dt\n",
    "import numpy as np\n",
    "from fhir_resources import date_format\n",
    "\n",
    "class PatientBirthdateProcessor(BaseEstimator):\n",
    "    \"\"\"\n",
    "    Calculates the age in days to use birthdate as a feature \n",
    "    \"\"\"\n",
    "    def transform(self, X, **transform_params):\n",
    "        ages = []\n",
    "        for birthdate in X:\n",
    "            b_date = dt.datetime.strptime(birthdate[0], date_format)\n",
    "            ages.append([int(\n",
    "                            (dt.datetime.now().date() - b_date.date()).days)])\n",
    "        return np.array(ages)\n",
    "\n",
    "    def fit(self, X, y=None, **fit_params):\n",
    "        return self\n",
    "    \n",
    "register_preprocessor(PatientBirthdateProcessor)"
   ]
  },
  {
   "cell_type": "code",
   "execution_count": 6,
   "metadata": {},
   "outputs": [
    {
     "name": "stderr",
     "output_type": "stream",
     "text": [
      "INFO:root:Extracting attributes from data set\n",
      "INFO:root:Preprocessing data\n",
      "INFO:root:Started training of clf\n",
      "INFO:root:Training completed\n"
     ]
    }
   ],
   "source": [
    "ml_fhir = MLOnFHIR(Patient, feature_attrs=['birthDate'], label_attrs=['gender'])\n",
    "X, y, trained_clf = ml_fhir.fit(pats, DecisionTreeClassifier())"
   ]
  },
  {
   "cell_type": "markdown",
   "metadata": {},
   "source": [
    "#### The `birthDate` feature is now the age in days:"
   ]
  },
  {
   "cell_type": "code",
   "execution_count": 13,
   "metadata": {},
   "outputs": [
    {
     "data": {
      "text/plain": [
       "array([[24705],\n",
       "       [ 5802],\n",
       "       [30961],\n",
       "       [31046],\n",
       "       [30950]])"
      ]
     },
     "execution_count": 13,
     "metadata": {},
     "output_type": "execute_result"
    }
   ],
   "source": [
    "X[:5]"
   ]
  }
 ],
 "metadata": {
  "kernelspec": {
   "display_name": "Python 3",
   "language": "python",
   "name": "python3"
  },
  "language_info": {
   "codemirror_mode": {
    "name": "ipython",
    "version": 3
   },
   "file_extension": ".py",
   "mimetype": "text/x-python",
   "name": "python",
   "nbconvert_exporter": "python",
   "pygments_lexer": "ipython3",
   "version": "3.7.0"
  }
 },
 "nbformat": 4,
 "nbformat_minor": 2
}
