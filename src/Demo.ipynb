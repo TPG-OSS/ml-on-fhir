{
 "cells": [
  {
   "cell_type": "code",
   "execution_count": 1,
   "metadata": {},
   "outputs": [],
   "source": [
    "%load_ext autoreload\n",
    "%autoreload 2"
   ]
  },
  {
   "cell_type": "code",
   "execution_count": 2,
   "metadata": {},
   "outputs": [],
   "source": [
    "from fhir_client import FHIRClient\n",
    "import logging\n",
    "import pandas as pd\n",
    "logging.basicConfig(level=logging.INFO)\n",
    "\n",
    "client = FHIRClient(service_base_url='http://localhost:8080/baseDstu3')"
   ]
  },
  {
   "cell_type": "markdown",
   "metadata": {},
   "source": [
    "### Querying Patients\n",
    "There are two general ways of searching for patients with specific properties.\n",
    "\n",
    "The first one is to search by coding system:"
   ]
  },
  {
   "cell_type": "code",
   "execution_count": 7,
   "metadata": {},
   "outputs": [
    {
     "data": {
      "text/html": [
       "<div>\n",
       "<style scoped>\n",
       "    .dataframe tbody tr th:only-of-type {\n",
       "        vertical-align: middle;\n",
       "    }\n",
       "\n",
       "    .dataframe tbody tr th {\n",
       "        vertical-align: top;\n",
       "    }\n",
       "\n",
       "    .dataframe thead th {\n",
       "        text-align: right;\n",
       "    }\n",
       "</style>\n",
       "<table border=\"1\" class=\"dataframe\">\n",
       "  <thead>\n",
       "    <tr style=\"text-align: right;\">\n",
       "      <th></th>\n",
       "      <th>code</th>\n",
       "      <th>display</th>\n",
       "      <th>system</th>\n",
       "    </tr>\n",
       "  </thead>\n",
       "  <tbody>\n",
       "    <tr>\n",
       "      <th>397</th>\n",
       "      <td>183450002</td>\n",
       "      <td>Admission to burn unit</td>\n",
       "      <td>http://snomed.info/sct</td>\n",
       "    </tr>\n",
       "    <tr>\n",
       "      <th>398</th>\n",
       "      <td>305340004</td>\n",
       "      <td>Admission to long stay hospital</td>\n",
       "      <td>http://snomed.info/sct</td>\n",
       "    </tr>\n",
       "    <tr>\n",
       "      <th>18</th>\n",
       "      <td>305428000</td>\n",
       "      <td>Admission to orthopedic department</td>\n",
       "      <td>http://snomed.info/sct</td>\n",
       "    </tr>\n",
       "    <tr>\n",
       "      <th>6113</th>\n",
       "      <td>305433001</td>\n",
       "      <td>Admission to trauma surgery department</td>\n",
       "      <td>http://snomed.info/sct</td>\n",
       "    </tr>\n",
       "    <tr>\n",
       "      <th>116</th>\n",
       "      <td>395142003</td>\n",
       "      <td>Allergy screening test</td>\n",
       "      <td>http://snomed.info/sct</td>\n",
       "    </tr>\n",
       "  </tbody>\n",
       "</table>\n",
       "</div>"
      ],
      "text/plain": [
       "           code                                 display  \\\n",
       "397   183450002                  Admission to burn unit   \n",
       "398   305340004         Admission to long stay hospital   \n",
       "18    305428000      Admission to orthopedic department   \n",
       "6113  305433001  Admission to trauma surgery department   \n",
       "116   395142003                  Allergy screening test   \n",
       "\n",
       "                      system  \n",
       "397   http://snomed.info/sct  \n",
       "398   http://snomed.info/sct  \n",
       "18    http://snomed.info/sct  \n",
       "6113  http://snomed.info/sct  \n",
       "116   http://snomed.info/sct  "
      ]
     },
     "execution_count": 7,
     "metadata": {},
     "output_type": "execute_result"
    }
   ],
   "source": [
    "procedures = client.get_all_procedures()\n",
    "pd.DataFrame([prod.code['coding'][0] for prod in procedures]).drop_duplicates().sort_values(by=['display']).head()"
   ]
  },
  {
   "cell_type": "code",
   "execution_count": 3,
   "metadata": {},
   "outputs": [],
   "source": [
    "patients_by_procedure_code = client.get_patients_by_procedure_code(\"http://snomed.info/sct\",\"73761001\")"
   ]
  },
  {
   "cell_type": "markdown",
   "metadata": {},
   "source": [
    "The second one is by text. The searched text will be `CodeableConcept.text`, `Coding.display`, or `Identifier.type.text`:"
   ]
  },
  {
   "cell_type": "code",
   "execution_count": 8,
   "metadata": {},
   "outputs": [
    {
     "data": {
      "text/html": [
       "<div>\n",
       "<style scoped>\n",
       "    .dataframe tbody tr th:only-of-type {\n",
       "        vertical-align: middle;\n",
       "    }\n",
       "\n",
       "    .dataframe tbody tr th {\n",
       "        vertical-align: top;\n",
       "    }\n",
       "\n",
       "    .dataframe thead th {\n",
       "        text-align: right;\n",
       "    }\n",
       "</style>\n",
       "<table border=\"1\" class=\"dataframe\">\n",
       "  <thead>\n",
       "    <tr style=\"text-align: right;\">\n",
       "      <th></th>\n",
       "      <th>code</th>\n",
       "      <th>display</th>\n",
       "      <th>system</th>\n",
       "    </tr>\n",
       "  </thead>\n",
       "  <tbody>\n",
       "    <tr>\n",
       "      <th>520</th>\n",
       "      <td>241929008</td>\n",
       "      <td>Acute allergic reaction</td>\n",
       "      <td>http://snomed.info/sct</td>\n",
       "    </tr>\n",
       "    <tr>\n",
       "      <th>40</th>\n",
       "      <td>75498004</td>\n",
       "      <td>Acute bacterial sinusitis (disorder)</td>\n",
       "      <td>http://snomed.info/sct</td>\n",
       "    </tr>\n",
       "    <tr>\n",
       "      <th>21</th>\n",
       "      <td>10509002</td>\n",
       "      <td>Acute bronchitis (disorder)</td>\n",
       "      <td>http://snomed.info/sct</td>\n",
       "    </tr>\n",
       "    <tr>\n",
       "      <th>4</th>\n",
       "      <td>195662009</td>\n",
       "      <td>Acute viral pharyngitis (disorder)</td>\n",
       "      <td>http://snomed.info/sct</td>\n",
       "    </tr>\n",
       "    <tr>\n",
       "      <th>202</th>\n",
       "      <td>26929004</td>\n",
       "      <td>Alzheimer's disease (disorder)</td>\n",
       "      <td>http://snomed.info/sct</td>\n",
       "    </tr>\n",
       "  </tbody>\n",
       "</table>\n",
       "</div>"
      ],
      "text/plain": [
       "          code                               display                  system\n",
       "520  241929008               Acute allergic reaction  http://snomed.info/sct\n",
       "40    75498004  Acute bacterial sinusitis (disorder)  http://snomed.info/sct\n",
       "21    10509002           Acute bronchitis (disorder)  http://snomed.info/sct\n",
       "4    195662009    Acute viral pharyngitis (disorder)  http://snomed.info/sct\n",
       "202   26929004        Alzheimer's disease (disorder)  http://snomed.info/sct"
      ]
     },
     "execution_count": 8,
     "metadata": {},
     "output_type": "execute_result"
    }
   ],
   "source": [
    "conditions = client.get_all_conditions()\n",
    "pd.DataFrame([cond.code['coding'][0] for cond in conditions]).drop_duplicates().sort_values(by=['display']).head()"
   ]
  },
  {
   "cell_type": "code",
   "execution_count": 4,
   "metadata": {},
   "outputs": [],
   "source": [
    "patients_by_condition_text = client.get_patients_by_condition_text(\"Acute viral pharyngitis\")"
   ]
  },
  {
   "cell_type": "markdown",
   "metadata": {},
   "source": [
    "## Machine Learning"
   ]
  },
  {
   "cell_type": "code",
   "execution_count": 5,
   "metadata": {},
   "outputs": [
    {
     "name": "stderr",
     "output_type": "stream",
     "text": [
      "INFO:root:Extracting attributes from data set\n",
      "INFO:root:Preprocessing data\n",
      "INFO:root:Started training of clf\n",
      "INFO:root:Training completed\n"
     ]
    },
    {
     "name": "stdout",
     "output_type": "stream",
     "text": [
      "Prediction accuracy 0.6587121212121212\n"
     ]
    }
   ],
   "source": [
    "from ml_on_fhir import MLOnFHIR\n",
    "from fhir_objects.patient import Patient\n",
    "from sklearn.tree import DecisionTreeClassifier\n",
    "\n",
    "ml_fhir = MLOnFHIR(Patient, feature_attrs=['birthDate'], label_attrs=['gender'])\n",
    "X, y, trained_clf = ml_fhir.fit(patients_by_procedure_code, DecisionTreeClassifier())\n",
    "\n",
    "from sklearn.metrics import accuracy_score, roc_curve, auc\n",
    "fpr, tpr, _ = roc_curve(y, trained_clf.predict(X))\n",
    "print(\"Prediction accuracy {}\".format( auc(fpr, tpr) ) )"
   ]
  },
  {
   "cell_type": "markdown",
   "metadata": {},
   "source": [
    "## Custom Preprocessing Classes\n",
    "\n",
    "#### The first five values of the ` birthDate` feature that has been preprocessed into an age in years:"
   ]
  },
  {
   "cell_type": "code",
   "execution_count": 6,
   "metadata": {},
   "outputs": [
    {
     "data": {
      "text/plain": [
       "array([[57],\n",
       "       [56],\n",
       "       [72],\n",
       "       [61],\n",
       "       [77]])"
      ]
     },
     "execution_count": 6,
     "metadata": {},
     "output_type": "execute_result"
    }
   ],
   "source": [
    "X[:5]"
   ]
  },
  {
   "cell_type": "markdown",
   "metadata": {},
   "source": [
    "If you want to preprocess fhir resources differently, feel free to implement your own preprocessing class. \n",
    "We can use the `register_preprocessor` function to do so. It is crucial to stick to the following naming scheme: \n",
    "    \n",
    "    \"<FHIR_Object_Name><FHIR_Resource_Name>Processor\"\n",
    "    \n",
    "Furthemore, at least the methods `fit` and `transform` have to be implemented."
   ]
  },
  {
   "cell_type": "code",
   "execution_count": 7,
   "metadata": {},
   "outputs": [
    {
     "name": "stderr",
     "output_type": "stream",
     "text": [
      "WARNING:root:Preprocessor PatientBirthdateProcessor already exists. Will be overridden.\n"
     ]
    }
   ],
   "source": [
    "from preprocessing import register_preprocessor\n",
    "\n",
    "from sklearn.base import BaseEstimator\n",
    "import datetime as dt\n",
    "import numpy as np\n",
    "from fhir_objects.fhir_resources import date_format\n",
    "\n",
    "class PatientBirthdateProcessor(BaseEstimator):\n",
    "    \"\"\"\n",
    "    Calculates the age in days to use birthdate as a feature \n",
    "    \"\"\"\n",
    "    def transform(self, X, **transform_params):\n",
    "        ages = []\n",
    "        for birthdate in X:\n",
    "            b_date = dt.datetime.strptime(birthdate[0], date_format)\n",
    "            ages.append([int(\n",
    "                            (dt.datetime.now().date() - b_date.date()).days)])\n",
    "        return np.array(ages)\n",
    "\n",
    "    def fit(self, X, y=None, **fit_params):\n",
    "        return self\n",
    "    \n",
    "register_preprocessor(PatientBirthdateProcessor)"
   ]
  },
  {
   "cell_type": "code",
   "execution_count": 8,
   "metadata": {},
   "outputs": [
    {
     "name": "stderr",
     "output_type": "stream",
     "text": [
      "INFO:root:Extracting attributes from data set\n",
      "INFO:root:Preprocessing data\n",
      "INFO:root:Started training of clf\n",
      "INFO:root:Training completed\n"
     ]
    }
   ],
   "source": [
    "ml_fhir = MLOnFHIR(Patient, feature_attrs=['birthDate'], label_attrs=['gender'])\n",
    "X, y, trained_clf = ml_fhir.fit(patients_by_procedure_code, DecisionTreeClassifier())"
   ]
  },
  {
   "cell_type": "markdown",
   "metadata": {},
   "source": [
    "#### The `birthDate` feature is now the age in days:"
   ]
  },
  {
   "cell_type": "code",
   "execution_count": 9,
   "metadata": {},
   "outputs": [
    {
     "data": {
      "text/plain": [
       "array([[21140],\n",
       "       [20769],\n",
       "       [26591],\n",
       "       [22512],\n",
       "       [28271]])"
      ]
     },
     "execution_count": 9,
     "metadata": {},
     "output_type": "execute_result"
    }
   ],
   "source": [
    "X[:5]"
   ]
  }
 ],
 "metadata": {
  "kernelspec": {
   "display_name": "Python 3",
   "language": "python",
   "name": "python3"
  },
  "language_info": {
   "codemirror_mode": {
    "name": "ipython",
    "version": 3
   },
   "file_extension": ".py",
   "mimetype": "text/x-python",
   "name": "python",
   "nbconvert_exporter": "python",
   "pygments_lexer": "ipython3",
   "version": "3.7.0"
  }
 },
 "nbformat": 4,
 "nbformat_minor": 2
}
